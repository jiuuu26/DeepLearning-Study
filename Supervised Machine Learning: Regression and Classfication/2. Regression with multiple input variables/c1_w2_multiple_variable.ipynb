{
 "cells": [
  {
   "cell_type": "code",
   "execution_count": 124,
   "metadata": {},
   "outputs": [],
   "source": [
    "import copy, math\n",
    "import numpy as np\n",
    "import matplotlib.pyplot as plt\n",
    "np.set_printoptions(precision=2)    #소수점 이하 둘째 자리까지 표시"
   ]
  },
  {
   "cell_type": "code",
   "execution_count": 125,
   "metadata": {},
   "outputs": [],
   "source": [
    "# 3개의 예시, 4개의 feature(size, bedrooms, floors and age)\n",
    "X_train=np.array([[2104,5,1,45],[1416,3,2,40],[852,2,1,35]])\n",
    "y_train=np.array([460,232,178])"
   ]
  },
  {
   "cell_type": "markdown",
   "metadata": {},
   "source": [
    "m개의 예시, n개의 특징\n",
    "X = (m,n) matrix"
   ]
  },
  {
   "cell_type": "code",
   "execution_count": 126,
   "metadata": {},
   "outputs": [
    {
     "name": "stdout",
     "output_type": "stream",
     "text": [
      "X shape : (3, 4), X type : <class 'numpy.ndarray'>\n",
      "[[2104    5    1   45]\n",
      " [1416    3    2   40]\n",
      " [ 852    2    1   35]]\n",
      "y shape : (3,), y type : <class 'numpy.ndarray'>\n",
      "[460 232 178]\n"
     ]
    }
   ],
   "source": [
    "print(f\"X shape : {X_train.shape}, X type : {type(X_train)}\")\n",
    "print(X_train)\n",
    "print(f\"y shape : {y_train.shape}, y type : {type(y_train)}\")\n",
    "print(y_train)"
   ]
  },
  {
   "cell_type": "markdown",
   "metadata": {},
   "source": [
    "n개의 feature 만큼 w가 존재해야한다. 하나의 b 값도 존재해야한다. 여기서 w는 vector, b는 scalar이다. "
   ]
  },
  {
   "cell_type": "code",
   "execution_count": 127,
   "metadata": {},
   "outputs": [
    {
     "name": "stdout",
     "output_type": "stream",
     "text": [
      "w_init shape : (4,), b_init type : <class 'float'>\n"
     ]
    }
   ],
   "source": [
    "b_init=785.1811367994083\n",
    "w_init=np.array([ 0.39133535, 18.75376741, -53.36032453, -26.42131618])\n",
    "print(f\"w_init shape : {w_init.shape}, b_init type : {type(b_init)}\")"
   ]
  },
  {
   "cell_type": "markdown",
   "metadata": {},
   "source": [
    "선형 회귀 모델을 위해서는 \"dot product\"를 실행해야한다. dot product를 실행하기 전에 직접 loop로 함수를 만들어 보자."
   ]
  },
  {
   "cell_type": "code",
   "execution_count": 128,
   "metadata": {},
   "outputs": [],
   "source": [
    "def predict_single_loop(x,w,b): #x에 뭐가 들어갈까?\n",
    "    n=x.shape[0]    #첫번째 차원의 크기, 1차원 배열에서는 요소의 수를 나타냄 \n",
    "    p=0\n",
    "    for i in range(n):\n",
    "        p_i=x[i]*w[i]\n",
    "        p=p+p_i\n",
    "    p=p+b\n",
    "    return p"
   ]
  },
  {
   "cell_type": "code",
   "execution_count": 129,
   "metadata": {},
   "outputs": [
    {
     "name": "stdout",
     "output_type": "stream",
     "text": [
      "x_vec shape : (4,), x_vec value : [2104    5    1   45]\n",
      "f_wb shape : (), prediction : 459.9999976194083\n"
     ]
    }
   ],
   "source": [
    "# 3개의 예시 중 첫번째 예시\n",
    "x_vec = X_train[0,:]\n",
    "print(f\"x_vec shape : {x_vec.shape}, x_vec value : {x_vec}\")\n",
    "\n",
    "f_wb = predict_single_loop(x_vec, w_init, b_init)\n",
    "print(f\"f_wb shape : {f_wb.shape}, prediction : {f_wb}\")\n"
   ]
  },
  {
   "cell_type": "markdown",
   "metadata": {},
   "source": [
    "dot product로 predict하기"
   ]
  },
  {
   "cell_type": "code",
   "execution_count": 130,
   "metadata": {},
   "outputs": [],
   "source": [
    "def predict(x,w,b):\n",
    "    p=np.dot(x,w)+b\n",
    "    return p"
   ]
  },
  {
   "cell_type": "code",
   "execution_count": 131,
   "metadata": {},
   "outputs": [
    {
     "name": "stdout",
     "output_type": "stream",
     "text": [
      "x_vec shape : (4,), x_vec value : [2104    5    1   45]\n",
      "f_wb shape : (), prediction : 459.99999761940825\n"
     ]
    }
   ],
   "source": [
    "x_vec = X_train[0,:]\n",
    "print(f\"x_vec shape : {x_vec.shape}, x_vec value : {x_vec}\")\n",
    "\n",
    "f_wb = predict(x_vec, w_init, b_init)\n",
    "print(f\"f_wb shape : {f_wb.shape}, prediction : {f_wb}\")"
   ]
  },
  {
   "cell_type": "markdown",
   "metadata": {},
   "source": [
    "직접 for loop로 predict 한 것과 dot product로 predict 한 결과가 같은 것을 확인할 수 있다. 그렇기 때문에 앞으로는 더 간단한 np.dot을 이용할 것이다.  "
   ]
  },
  {
   "cell_type": "code",
   "execution_count": 132,
   "metadata": {},
   "outputs": [],
   "source": [
    "def compute_cost(X,y,w,b):\n",
    "    m=X.shape[0]\n",
    "    cost=0.0\n",
    "    for i in range(m):\n",
    "        f_wb_i=np.dot(X[i],w)+b\n",
    "        cost = cost + (f_wb_i-y[i])**2\n",
    "    cost = cost/(2*m)\n",
    "    return cost"
   ]
  },
  {
   "cell_type": "code",
   "execution_count": 133,
   "metadata": {},
   "outputs": [
    {
     "name": "stdout",
     "output_type": "stream",
     "text": [
      "Cost at optimal w : 1.5578904880036537e-12\n"
     ]
    }
   ],
   "source": [
    "cost=compute_cost(X_train, y_train, w_init, b_init)\n",
    "print(f\"Cost at optimal w : {cost}\")"
   ]
  },
  {
   "cell_type": "markdown",
   "metadata": {},
   "source": [
    "Gradient Descent With Multiple Variables"
   ]
  },
  {
   "cell_type": "code",
   "execution_count": 134,
   "metadata": {},
   "outputs": [],
   "source": [
    "def compute_gradient(X,y,w,b):\n",
    "    m,n=X.shape\n",
    "    dj_dw=np.zeros((n,))\n",
    "    dj_db=0.\n",
    "\n",
    "    for i in range(m):\n",
    "        err=(np.dot(X[i],w)+b) - y[i]\n",
    "        for j in range(n):\n",
    "            dj_dw[j]=dj_dw[j]+err*X[i,j]\n",
    "        dj_db=dj_db+err\n",
    "    dj_dw=dj_dw/m\n",
    "    dj_db=dj_db/m\n",
    "\n",
    "    return dj_db,dj_dw"
   ]
  },
  {
   "cell_type": "code",
   "execution_count": 135,
   "metadata": {},
   "outputs": [
    {
     "name": "stdout",
     "output_type": "stream",
     "text": [
      "dj_db at initial w,b: -1.673925169143331e-06\n",
      "dj_dw at initial w,b: \n",
      " [-2.73e-03 -6.27e-06 -2.22e-06 -6.92e-05]\n"
     ]
    }
   ],
   "source": [
    "tmp_dj_db, tmp_dj_dw = compute_gradient(X_train,y_train,w_init,b_init)\n",
    "print(f\"dj_db at initial w,b: {tmp_dj_db}\")\n",
    "print(f\"dj_dw at initial w,b: \\n {tmp_dj_dw}\")"
   ]
  },
  {
   "cell_type": "code",
   "execution_count": 136,
   "metadata": {},
   "outputs": [],
   "source": [
    "def gradient_descent(X, y, w_in, b_in, cost_function, gradient_function, alpha, num_iters):\n",
    "    J_history = []\n",
    "    w=copy.deepcopy(w_in)\n",
    "    b=b_in\n",
    "\n",
    "    for i in range(num_iters):\n",
    "        dj_db, dj_dw = gradient_function(X,y,w,b)\n",
    "        w=w-alpha*dj_dw\n",
    "        b=b-alpha*dj_db\n",
    "\n",
    "        if i<100000:\n",
    "            J_history.append(cost_function(X,y,w,b))\n",
    "\n",
    "        if i % math.ceil(num_iters / 10) == 0:\n",
    "            print(f\"Iteration {i:4d} : Cost {J_history[-1]:8.2f}    \")\n",
    "    return w,b,J_history"
   ]
  },
  {
   "cell_type": "code",
   "execution_count": 137,
   "metadata": {},
   "outputs": [
    {
     "name": "stdout",
     "output_type": "stream",
     "text": [
      "Iteration    0 : Cost  2529.46    \n",
      "Iteration  100 : Cost   695.99    \n",
      "Iteration  200 : Cost   694.92    \n",
      "Iteration  300 : Cost   693.86    \n",
      "Iteration  400 : Cost   692.81    \n",
      "Iteration  500 : Cost   691.77    \n",
      "Iteration  600 : Cost   690.73    \n",
      "Iteration  700 : Cost   689.71    \n",
      "Iteration  800 : Cost   688.70    \n",
      "Iteration  900 : Cost   687.69    \n",
      "b,w found by gradient descent: -0.00, [ 0.2   0.   -0.01 -0.07]\n",
      "prediction: 426.19, target value: 460\n",
      "prediction: 286.17, target value: 232\n",
      "prediction: 171.47, target value: 178\n"
     ]
    }
   ],
   "source": [
    "# w_init과 같은 shape의 행렬에 0의 값을 넣은 행렬 생성\n",
    "initial_w = np.zeros_like(w_init)\n",
    "initial_b = 0.\n",
    "\n",
    "iterations=1000\n",
    "alpha=5.0e-7\n",
    "w_final, b_final, J_hist = gradient_descent(X_train, y_train, initial_w, initial_b, compute_cost, compute_gradient, alpha, iterations)\n",
    "\n",
    "print(f\"b,w found by gradient descent: {b_final:0.2f}, {w_final}\")\n",
    "m,_ = X_train.shape\n",
    "for i in range(m):\n",
    "    print(f\"prediction: {np.dot(X_train[i], w_final)+b_final:0.2f}, target value: {y_train[i]}\")"
   ]
  },
  {
   "cell_type": "code",
   "execution_count": 138,
   "metadata": {},
   "outputs": [
    {
     "data": {
      "image/png": "[encoded data removed]",
      "text/plain": [
       "<Figure size 1200x400 with 2 Axes>"
      ]
     },
     "metadata": {},
     "output_type": "display_data"
    }
   ],
   "source": [
    "fig, (ax1, ax2) = plt.subplots(1,2,constrained_layout=True, figsize=(16,10))\n",
    "ax1.plot(J_hist)\n",
    "ax2.plot(100+np.arange(len(J_hist[100:])), J_hist[100:])\n",
    "ax1.set_title(\"Cost vs. Iteration\")\n",
    "ax2.set_title(\"Cost vs. Iteration (tail)\")\n",
    "ax1.set_ylabel('Cost')\n",
    "ax2.set_ylabel('Cost')\n",
    "ax1.set_xlabel('Iteration step')\n",
    "ax2.set_xlabel('Iteration step')\n",
    "plt.show()"
   ]
  }
 ],
 "metadata": {
  "kernelspec": {
   "display_name": "Python 3",
   "language": "python",
   "name": "python3"
  },
  "language_info": {
   "codemirror_mode": {
    "name": "ipython",
    "version": 3
   },
   "file_extension": ".py",
   "mimetype": "text/x-python",
   "name": "python",
   "nbconvert_exporter": "python",
   "pygments_lexer": "ipython3",
   "version": "3.8.7"
  }
 },
 "nbformat": 4,
 "nbformat_minor": 2
}
